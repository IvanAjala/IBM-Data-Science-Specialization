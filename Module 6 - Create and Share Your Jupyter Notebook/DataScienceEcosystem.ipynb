{
 "cells": [
  {
   "cell_type": "markdown",
   "id": "2b96a44f-511a-4797-979c-2c7585889fa6",
   "metadata": {},
   "source": [
    "# Data Science Tools and Ecosystem"
   ]
  },
  {
   "cell_type": "markdown",
   "id": "0cfa64bd-54f4-4639-97ac-56c258030b9b",
   "metadata": {},
   "source": [
    "In this notebook, Data Science Tools and Ecosystem are summarized."
   ]
  },
  {
   "cell_type": "markdown",
   "id": "8a022030-d78b-46a2-9730-95caf0dccf37",
   "metadata": {},
   "source": [
    "**Objectives**:\n",
    "\n",
    "- List popular languages for Data Science\n",
    "- Libraries used by Data Scientists\n",
    "- Data Science Tools\n",
    "- Arithmetic expressions"
   ]
  },
  {
   "cell_type": "markdown",
   "id": "ec95bcf9-12a6-41c3-8bc6-561663774985",
   "metadata": {},
   "source": [
    "## Autor\n",
    "\n",
    "Ivan Ajala"
   ]
  },
  {
   "cell_type": "markdown",
   "id": "c31fd240-d5b7-445f-9468-6655835bec4b",
   "metadata": {},
   "source": [
    "Some of the **popular languages** that Data Scientists use are:\n",
    "\n",
    "1. Python\n",
    "2. R\n",
    "3. Julia\n",
    "4. Java"
   ]
  },
  {
   "cell_type": "markdown",
   "id": "3b54aa20-a2c3-4371-9f9a-a8416dba96ac",
   "metadata": {},
   "source": [
    "Some of the commonly **used libraries used** by Data Scientists include:\n",
    "\n",
    "1. **`dplyr`:** For **data manipulation** (filtering, selection, aggregation, etc.).\n",
    "\n",
    "2. **`stringer`:** For **string manipulation** (text).\n",
    "\n",
    "3. **`ggplot2`:** For **data visualization** (it is the most famous R package for creating aesthetically pleasing statistical graphs).\n",
    "\n",
    "4. **`caret`:** A collection of functions that simplify the process of creating **machine learning models**."
   ]
  },
  {
   "cell_type": "markdown",
   "id": "bf5f91c4-5604-48d1-87d6-b86e2c59e7d1",
   "metadata": {},
   "source": [
    "## Data Science Tools\n",
    "\n",
    "|Tools|Description|\n",
    "|-----|-----------|\n",
    "|Jupyter Notebook/JupyterLab|Interactive web environment for creating and sharing documents containing executable code, visualizations, equations, and narrative text|\n",
    "|RStudio|Specialized IDE for R language, with user-friendly interface and integrated features|\n",
    "|VS Code (Visual Studio Code)|Lightweight, highly customizable code editor from Microsoft|"
   ]
  },
  {
   "cell_type": "markdown",
   "id": "19bab6b4-1fe1-405b-9fc3-b5cc15f39a5b",
   "metadata": {},
   "source": [
    "### Below are a few examples of evaluating arithmetic expressions in Python."
   ]
  },
  {
   "cell_type": "code",
   "execution_count": 2,
   "id": "cdbc95de-1c00-4cae-a3d5-c9069e9abd9f",
   "metadata": {},
   "outputs": [
    {
     "data": {
      "text/plain": [
       "11"
      ]
     },
     "execution_count": 2,
     "metadata": {},
     "output_type": "execute_result"
    }
   ],
   "source": [
    "# addition\n",
    "\n",
    "x = 4\n",
    "y = 7\n",
    "\n",
    "addition = x + y\n",
    "addition"
   ]
  },
  {
   "cell_type": "code",
   "execution_count": 4,
   "id": "6fc36151-3414-4e85-b28f-e66c3529fb43",
   "metadata": {},
   "outputs": [
    {
     "data": {
      "text/plain": [
       "-3"
      ]
     },
     "execution_count": 4,
     "metadata": {},
     "output_type": "execute_result"
    }
   ],
   "source": [
    "# subtraction \n",
    "\n",
    "x = 4\n",
    "y = 7\n",
    "\n",
    "subtraction = x - y\n",
    "subtraction"
   ]
  },
  {
   "cell_type": "code",
   "execution_count": 5,
   "id": "0e4f6ab0-9b56-4edf-848f-f31627b00e97",
   "metadata": {},
   "outputs": [
    {
     "data": {
      "text/plain": [
       "28"
      ]
     },
     "execution_count": 5,
     "metadata": {},
     "output_type": "execute_result"
    }
   ],
   "source": [
    "# multiplication\n",
    "\n",
    "x = 4\n",
    "y = 7\n",
    "\n",
    "multiplication = x * y\n",
    "multiplication"
   ]
  },
  {
   "cell_type": "code",
   "execution_count": 6,
   "id": "cf536c6a-5c6b-4e86-af9f-5979f78b7b6a",
   "metadata": {},
   "outputs": [
    {
     "data": {
      "text/plain": [
       "3.0"
      ]
     },
     "execution_count": 6,
     "metadata": {},
     "output_type": "execute_result"
    }
   ],
   "source": [
    "# division\n",
    "\n",
    "x = 21\n",
    "y = 7\n",
    "\n",
    "division = x / y\n",
    "division"
   ]
  },
  {
   "cell_type": "code",
   "execution_count": 7,
   "id": "5d0a9227-0acc-4887-bfab-997ab00cb2ce",
   "metadata": {},
   "outputs": [
    {
     "data": {
      "text/plain": [
       "17"
      ]
     },
     "execution_count": 7,
     "metadata": {},
     "output_type": "execute_result"
    }
   ],
   "source": [
    "# This a simple arithmetic expression to mutiply then add integers\n",
    "\n",
    "(3*4)+5"
   ]
  },
  {
   "cell_type": "code",
   "execution_count": 8,
   "id": "69af96b7-1ed7-4df2-80e1-094691aab0ec",
   "metadata": {},
   "outputs": [
    {
     "data": {
      "text/plain": [
       "3.3333333333333335"
      ]
     },
     "execution_count": 8,
     "metadata": {},
     "output_type": "execute_result"
    }
   ],
   "source": [
    "# This will convert 200 minutes to hours by diving by 60\n",
    "\n",
    "minutes = 200\n",
    "hour = 60\n",
    "\n",
    "convert = minutes/hour\n",
    "convert\n"
   ]
  },
  {
   "cell_type": "markdown",
   "id": "8100eb2f-0ab7-400c-880f-28a7cbab8d74",
   "metadata": {},
   "source": []
  }
 ],
 "metadata": {
  "kernelspec": {
   "display_name": "Python 3 (ipykernel)",
   "language": "python",
   "name": "python3"
  },
  "language_info": {
   "codemirror_mode": {
    "name": "ipython",
    "version": 3
   },
   "file_extension": ".py",
   "mimetype": "text/x-python",
   "name": "python",
   "nbconvert_exporter": "python",
   "pygments_lexer": "ipython3",
   "version": "3.12.8"
  }
 },
 "nbformat": 4,
 "nbformat_minor": 5
}
